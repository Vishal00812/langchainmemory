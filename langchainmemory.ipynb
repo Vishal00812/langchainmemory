{
 "cells": [
  {
   "cell_type": "code",
   "execution_count": 1,
   "id": "f85321cc-d34f-42f0-8518-8d5f2c4c201f",
   "metadata": {},
   "outputs": [],
   "source": [
    "from langchain.llms import OpenAI\n",
    "from langchain.prompts import PromptTemplate\n",
    "from langchain.chains import LLMChain"
   ]
  },
  {
   "cell_type": "code",
   "execution_count": 2,
   "id": "6a961eae-dbaa-44e0-9e5f-fc730f73ab8c",
   "metadata": {},
   "outputs": [],
   "source": [
    "myapi=\"sk-proj-aZQBaSpDX6n1ninokX1ET3BlbkFJBDvsVM2Uek5WIn3MMirE\""
   ]
  },
  {
   "cell_type": "code",
   "execution_count": 3,
   "id": "f3354ab6-8b97-4d50-8be1-4e750ccc8100",
   "metadata": {},
   "outputs": [
    {
     "name": "stderr",
     "output_type": "stream",
     "text": [
      "C:\\Users\\vktaw\\Desktop\\openai\\openai-env\\lib\\site-packages\\langchain_core\\_api\\deprecation.py:119: LangChainDeprecationWarning: The class `OpenAI` was deprecated in LangChain 0.0.10 and will be removed in 0.2.0. An updated version of the class exists in the langchain-openai package and should be used instead. To use it run `pip install -U langchain-openai` and import as `from langchain_openai import OpenAI`.\n",
      "  warn_deprecated(\n"
     ]
    }
   ],
   "source": [
    "client = OpenAI(api_key=myapi)"
   ]
  },
  {
   "cell_type": "code",
   "execution_count": 16,
   "id": "9af93177-f723-48ac-bc42-492f5fd83089",
   "metadata": {},
   "outputs": [],
   "source": [
    "prompt_template = PromptTemplate(\n",
    "    input_variables = [\"product\"],\n",
    "    template=\"what is the good name of the company making {product}\"\n",
    ")"
   ]
  },
  {
   "cell_type": "code",
   "execution_count": 6,
   "id": "a2aab517-4a00-4f0e-a489-d3b51bedae88",
   "metadata": {},
   "outputs": [],
   "source": [
    "chain = LLMChain(llm=client,prompt=prompt_template)"
   ]
  },
  {
   "cell_type": "code",
   "execution_count": 9,
   "id": "ab9b535a-19ef-4581-8665-f5b7f8ef8669",
   "metadata": {},
   "outputs": [
    {
     "data": {
      "text/plain": [
       "'Some examples of good company names for smart phones could be:\\n\\n1. TechNova\\n2. NexGen Mobile\\n3. Intelliphone\\n4. EliteTech\\n5. Innovate Mobile\\n6. SmartWorks\\n7. FutureTech\\n8. PrimePhone\\n9. SwiftMobile\\n10. QuantumPhone'"
      ]
     },
     "execution_count": 9,
     "metadata": {},
     "output_type": "execute_result"
    }
   ],
   "source": [
    "chain.run(\"smart phone\").strip()"
   ]
  },
  {
   "cell_type": "code",
   "execution_count": 11,
   "id": "672d3046-f82a-407a-84c8-cbea4a9c2ccf",
   "metadata": {},
   "outputs": [],
   "source": [
    "from langchain.memory import ConversationBufferMemory\n",
    "memory=ConversationBufferMemory() ##getting the previous conversation"
   ]
  },
  {
   "cell_type": "code",
   "execution_count": 12,
   "id": "ea1558c3-3424-423b-83a6-5b3a25655852",
   "metadata": {},
   "outputs": [],
   "source": [
    "prompt_template = PromptTemplate(\n",
    "    input_variables = [\"product\"],\n",
    "    template=\"what is the good name of the company {product}\"\n",
    ")"
   ]
  },
  {
   "cell_type": "code",
   "execution_count": 17,
   "id": "83c960bb-0fcb-4b2b-bd4a-14430b248fa8",
   "metadata": {},
   "outputs": [],
   "source": [
    "chain = LLMChain(llm=client,prompt=prompt_template,memory=memory)"
   ]
  },
  {
   "cell_type": "code",
   "execution_count": 18,
   "id": "a8ce7229-41af-4f45-96c2-b726ef748e74",
   "metadata": {},
   "outputs": [
    {
     "data": {
      "text/plain": [
       "'There are many companies that make wine, so it is difficult to say which one has the \"good\" name. Some popular and well-known wine companies include:\\n\\n1. Moët & Chandon\\n2. Penfolds\\n3. Château Margaux\\n4. Ferrari-Carano Vineyards and Winery\\n5. Opus One Winery\\n6. Jackson Family Wines\\n7. Robert Mondavi Winery\\n8. Domaine de la Romanée-Conti\\n9. Beringer Vineyards\\n10. Kendall-Jackson Wine Estates.'"
      ]
     },
     "execution_count": 18,
     "metadata": {},
     "output_type": "execute_result"
    }
   ],
   "source": [
    "chain.run(\"wine\").strip()"
   ]
  },
  {
   "cell_type": "code",
   "execution_count": 19,
   "id": "33dc8b36-e65f-4710-99fe-e2de70e36242",
   "metadata": {},
   "outputs": [
    {
     "data": {
      "text/plain": [
       "'There are many companies that make toys, so it is difficult to determine one \"good\" name. Some popular toy companies include Hasbro, Mattel, LEGO, Fisher-Price, and Barbie.'"
      ]
     },
     "execution_count": 19,
     "metadata": {},
     "output_type": "execute_result"
    }
   ],
   "source": [
    "chain.run(\"toy\").strip()"
   ]
  },
  {
   "cell_type": "code",
   "execution_count": 21,
   "id": "030db0da-fefb-429f-9dff-4823d8fb63f2",
   "metadata": {},
   "outputs": [
    {
     "data": {
      "text/plain": [
       "ConversationBufferMemory(chat_memory=ChatMessageHistory(messages=[HumanMessage(content='wine'), AIMessage(content=\"\\n\\nThere are many good names for companies that produce wine, as it often depends on the brand's unique identity and target market. Some examples of well-known wine company names are:\\n\\n1. Barefoot Wine & Bubbly\\n2. Yellow Tail\\n3. Kendall-Jackson\\n4. Robert Mondavi\\n5. La Crema\\n6. Beringer\\n7. Chateau Ste. Michelle\\n8. Domaine Chandon\\n9. Gallo Family Vineyards\\n10. Santa Margherita.\\n\\nUltimately, a good name for a wine company should be easy to remember, reflect the brand's values and story, and stand out in a crowded market.\"), HumanMessage(content='wine'), AIMessage(content='\\n\\nThere is no one \"good\" name for a company wine, as it ultimately depends on the specific brand and target market. Some companies may choose to use a creative name that reflects their brand image, while others may opt for a more traditional name that highlights the type or origin of the wine. Ultimately, a good name for a company wine should be memorable, easy to pronounce, and representative of the brand and product.'), HumanMessage(content='wine'), AIMessage(content='\\n\\nThere are many companies that make wine, so it is difficult to say which one has the \"good\" name. Some popular and well-known wine companies include:\\n\\n1. Moët & Chandon\\n2. Penfolds\\n3. Château Margaux\\n4. Ferrari-Carano Vineyards and Winery\\n5. Opus One Winery\\n6. Jackson Family Wines\\n7. Robert Mondavi Winery\\n8. Domaine de la Romanée-Conti\\n9. Beringer Vineyards\\n10. Kendall-Jackson Wine Estates.'), HumanMessage(content='toy'), AIMessage(content='\\n\\nThere are many companies that make toys, so it is difficult to determine one \"good\" name. Some popular toy companies include Hasbro, Mattel, LEGO, Fisher-Price, and Barbie.')]))"
      ]
     },
     "execution_count": 21,
     "metadata": {},
     "output_type": "execute_result"
    }
   ],
   "source": [
    "chain.memory"
   ]
  },
  {
   "cell_type": "code",
   "execution_count": 22,
   "id": "6d0f680a-744a-4f21-88db-926599eb2bff",
   "metadata": {},
   "outputs": [
    {
     "data": {
      "text/plain": [
       "'Human: wine\\nAI: \\n\\nThere are many good names for companies that produce wine, as it often depends on the brand\\'s unique identity and target market. Some examples of well-known wine company names are:\\n\\n1. Barefoot Wine & Bubbly\\n2. Yellow Tail\\n3. Kendall-Jackson\\n4. Robert Mondavi\\n5. La Crema\\n6. Beringer\\n7. Chateau Ste. Michelle\\n8. Domaine Chandon\\n9. Gallo Family Vineyards\\n10. Santa Margherita.\\n\\nUltimately, a good name for a wine company should be easy to remember, reflect the brand\\'s values and story, and stand out in a crowded market.\\nHuman: wine\\nAI: \\n\\nThere is no one \"good\" name for a company wine, as it ultimately depends on the specific brand and target market. Some companies may choose to use a creative name that reflects their brand image, while others may opt for a more traditional name that highlights the type or origin of the wine. Ultimately, a good name for a company wine should be memorable, easy to pronounce, and representative of the brand and product.\\nHuman: wine\\nAI: \\n\\nThere are many companies that make wine, so it is difficult to say which one has the \"good\" name. Some popular and well-known wine companies include:\\n\\n1. Moët & Chandon\\n2. Penfolds\\n3. Château Margaux\\n4. Ferrari-Carano Vineyards and Winery\\n5. Opus One Winery\\n6. Jackson Family Wines\\n7. Robert Mondavi Winery\\n8. Domaine de la Romanée-Conti\\n9. Beringer Vineyards\\n10. Kendall-Jackson Wine Estates.\\nHuman: toy\\nAI: \\n\\nThere are many companies that make toys, so it is difficult to determine one \"good\" name. Some popular toy companies include Hasbro, Mattel, LEGO, Fisher-Price, and Barbie.'"
      ]
     },
     "execution_count": 22,
     "metadata": {},
     "output_type": "execute_result"
    }
   ],
   "source": [
    "chain.memory.buffer"
   ]
  },
  {
   "cell_type": "code",
   "execution_count": 24,
   "id": "85ae5132-1b1c-4ece-aa98-b6773d2e2359",
   "metadata": {},
   "outputs": [
    {
     "name": "stdout",
     "output_type": "stream",
     "text": [
      "Human: wine\n",
      "AI: \n",
      "\n",
      "There are many good names for companies that produce wine, as it often depends on the brand's unique identity and target market. Some examples of well-known wine company names are:\n",
      "\n",
      "1. Barefoot Wine & Bubbly\n",
      "2. Yellow Tail\n",
      "3. Kendall-Jackson\n",
      "4. Robert Mondavi\n",
      "5. La Crema\n",
      "6. Beringer\n",
      "7. Chateau Ste. Michelle\n",
      "8. Domaine Chandon\n",
      "9. Gallo Family Vineyards\n",
      "10. Santa Margherita.\n",
      "\n",
      "Ultimately, a good name for a wine company should be easy to remember, reflect the brand's values and story, and stand out in a crowded market.\n",
      "Human: wine\n",
      "AI: \n",
      "\n",
      "There is no one \"good\" name for a company wine, as it ultimately depends on the specific brand and target market. Some companies may choose to use a creative name that reflects their brand image, while others may opt for a more traditional name that highlights the type or origin of the wine. Ultimately, a good name for a company wine should be memorable, easy to pronounce, and representative of the brand and product.\n",
      "Human: wine\n",
      "AI: \n",
      "\n",
      "There are many companies that make wine, so it is difficult to say which one has the \"good\" name. Some popular and well-known wine companies include:\n",
      "\n",
      "1. Moët & Chandon\n",
      "2. Penfolds\n",
      "3. Château Margaux\n",
      "4. Ferrari-Carano Vineyards and Winery\n",
      "5. Opus One Winery\n",
      "6. Jackson Family Wines\n",
      "7. Robert Mondavi Winery\n",
      "8. Domaine de la Romanée-Conti\n",
      "9. Beringer Vineyards\n",
      "10. Kendall-Jackson Wine Estates.\n",
      "Human: toy\n",
      "AI: \n",
      "\n",
      "There are many companies that make toys, so it is difficult to determine one \"good\" name. Some popular toy companies include Hasbro, Mattel, LEGO, Fisher-Price, and Barbie.\n"
     ]
    }
   ],
   "source": [
    "print(chain.memory.buffer)"
   ]
  },
  {
   "cell_type": "code",
   "execution_count": 25,
   "id": "a83ad9cb-fc4c-451b-870b-8e16962d90ab",
   "metadata": {},
   "outputs": [],
   "source": [
    "from langchain.chains import ConversationChain"
   ]
  },
  {
   "cell_type": "code",
   "execution_count": 27,
   "id": "8e23f8f3-3622-4361-b01b-9b48ce2ba1cf",
   "metadata": {},
   "outputs": [],
   "source": [
    "convo = ConversationChain(llm=OpenAI(api_key=myapi,temperature=0.7))"
   ]
  },
  {
   "cell_type": "code",
   "execution_count": 28,
   "id": "47549a10-8f25-4363-bd45-4110932d569e",
   "metadata": {},
   "outputs": [
    {
     "data": {
      "text/plain": [
       "' The first Cricket World Cup was held in 1975 and was won by the West Indies team. They defeated Australia in the final match by 17 runs. The captain of the West Indies team was Clive Lloyd, and the team also included famous players like Viv Richards and Gordon Greenidge. The tournament was a 60-over competition and was played in England. The West Indies team also went on to win the second Cricket World Cup in 1979.'"
      ]
     },
     "execution_count": 28,
     "metadata": {},
     "output_type": "execute_result"
    }
   ],
   "source": [
    "convo.run(\"who won the first cricket worldcup\")"
   ]
  },
  {
   "cell_type": "code",
   "execution_count": 29,
   "id": "4c3ac101-5082-4cbf-8f5a-53c35ce9bccb",
   "metadata": {},
   "outputs": [
    {
     "data": {
      "text/plain": [
       "' 2+2 is equal to 4. This is a basic arithmetic equation that has a simple solution. In mathematics, it falls under the category of addition, which is one of the four basic operations along with subtraction, multiplication, and division. The concept of addition is used to combine two or more numbers to get a total or sum. In this case, 2+2 is adding two numbers, 2 and 2, to get a total of 4. '"
      ]
     },
     "execution_count": 29,
     "metadata": {},
     "output_type": "execute_result"
    }
   ],
   "source": [
    "convo.run(\"what is 2+2\")"
   ]
  },
  {
   "cell_type": "code",
   "execution_count": 30,
   "id": "2797b12b-42ec-4171-b9d2-4b3b9a9cbe20",
   "metadata": {},
   "outputs": [
    {
     "data": {
      "text/plain": [
       "' The captain of the winning team in the first Cricket World Cup was Clive Lloyd from the West Indies team. He led his team to victory against Australia in the final match by 17 runs. Lloyd was also the captain of the West Indies team in the second Cricket World Cup in 1979, where they successfully defended their title. He is considered one of the greatest captains in cricket history and is often credited for the dominance of the West Indies team during the 1970s and 1980s.'"
      ]
     },
     "execution_count": 30,
     "metadata": {},
     "output_type": "execute_result"
    }
   ],
   "source": [
    "convo.run(\"who was the captain of the winning team\")"
   ]
  },
  {
   "cell_type": "code",
   "execution_count": 31,
   "id": "e11bfb48-5acf-486a-966a-4384dba471ee",
   "metadata": {},
   "outputs": [
    {
     "data": {
      "text/plain": [
       "' The code for a binary search tree may vary depending on the programming language being used. However, the general structure of a binary search tree involves creating a class or data structure for the nodes, which contain a value and pointers to its left and right child nodes. The root node is the topmost node in the tree, and its left child will have a smaller value while its right child will have a larger value. Insertion and searching in a binary search tree follow a specific algorithm to maintain this structure. You can find code examples for binary search trees in various programming languages online.'"
      ]
     },
     "execution_count": 31,
     "metadata": {},
     "output_type": "execute_result"
    }
   ],
   "source": [
    "convo.run(\"provide me the code for the binary search tree \")"
   ]
  },
  {
   "cell_type": "code",
   "execution_count": 33,
   "id": "014a19d8-3ded-4d6a-afc9-8743eea475cd",
   "metadata": {},
   "outputs": [
    {
     "name": "stdout",
     "output_type": "stream",
     "text": [
      " Here is a continuation of the previous code:\n",
      "\n",
      "// Function to insert a new node in the tree\n",
      "struct Node* insertNode(struct Node *root, int value) {\n",
      "    if (root == NULL) { // If the tree is empty\n",
      "        root = createNode(value); // Create a new root node\n",
      "        return root;\n",
      "    }\n",
      "    else if (value < root->value) { // If the value is smaller than the root node\n",
      "        root->left = insertNode(root->left, value); // Recursively insert the value in the left subtree\n",
      "    }\n",
      "    else { // If the value is larger than or equal to the root node\n",
      "        root->right = insertNode(root->right, value); // Recursively insert the value in the right subtree\n",
      "    }\n",
      "    return root;\n",
      "}\n",
      "\n",
      "// Function to search for a value in the tree\n",
      "struct Node* searchNode(struct Node *root, int value) {\n",
      "    if (root == NULL || root->value == value) { // If the tree is empty or the value is found\n",
      "        return root;\n",
      "    }\n",
      "    else if (value < root->value) { // If the value is smaller than the root node\n",
      "        return searchNode(root->left, value); // Rec\n"
     ]
    }
   ],
   "source": [
    "print(convo.run(\"provide code in c\"))"
   ]
  },
  {
   "cell_type": "code",
   "execution_count": 35,
   "id": "00d23bca-6c91-4680-95b7-4ce2499598ee",
   "metadata": {},
   "outputs": [
    {
     "data": {
      "text/plain": [
       "'  Clive Lloyd, the winning captain of the first Cricket World Cup, is currently 76 years old. He was born on August 31, 1944, in Guyana. At the time of winning the World Cup in 1975, he was 31 years old. He retired from international cricket in 1985 and pursued a career as a coach and commentator. In 2019, he was knighted by Queen Elizabeth II for his contributions to cricket.'"
      ]
     },
     "execution_count": 35,
     "metadata": {},
     "output_type": "execute_result"
    }
   ],
   "source": [
    "convo.run(\"what is the age of the winning captain\")"
   ]
  },
  {
   "cell_type": "code",
   "execution_count": 36,
   "id": "3b44e4cd-b964-4490-b346-6ec6e0639228",
   "metadata": {},
   "outputs": [],
   "source": [
    "from langchain.memory import ConversationBufferWindowMemory"
   ]
  },
  {
   "cell_type": "code",
   "execution_count": 42,
   "id": "90e0e2fb-b5ba-474f-a75b-a64e4460fb85",
   "metadata": {},
   "outputs": [],
   "source": [
    "memory=ConversationBufferWindowMemory(k=1) ##defining window size upto which memory should be maintained\n",
    "convo=ConversationChain(llm=OpenAI(api_key=myapi,temperature=0.7),memory=memory) "
   ]
  },
  {
   "cell_type": "code",
   "execution_count": 43,
   "id": "96390a48-60d6-4be4-bc54-4f2fc7c08910",
   "metadata": {},
   "outputs": [
    {
     "data": {
      "text/plain": [
       "\" The first Cricket World Cup was held in 1975 and was won by the West Indies. Interestingly, the tournament was called the Prudential Cup and was played as a series of one-day matches, as opposed to the longer test matches that were typically played at the time. The final match was held at Lord's Cricket Ground in London, with the West Indies defeating Australia by 17 runs.\""
      ]
     },
     "execution_count": 43,
     "metadata": {},
     "output_type": "execute_result"
    }
   ],
   "source": [
    "convo.run(\"who won the first cricket worldcup\")"
   ]
  },
  {
   "cell_type": "code",
   "execution_count": 44,
   "id": "ace55c11-6a97-4866-928d-b71088461ce0",
   "metadata": {},
   "outputs": [
    {
     "data": {
      "text/plain": [
       "'  2+2 is equal to 4.'"
      ]
     },
     "execution_count": 44,
     "metadata": {},
     "output_type": "execute_result"
    }
   ],
   "source": [
    "convo.run(\"what is 2+2\")"
   ]
  },
  {
   "cell_type": "code",
   "execution_count": 45,
   "id": "45389a23-3d36-4cdf-98fb-b8d45884f4e5",
   "metadata": {},
   "outputs": [
    {
     "data": {
      "text/plain": [
       "\" I'm sorry, I do not have enough context to answer that question. Could you provide more specific information?\""
      ]
     },
     "execution_count": 45,
     "metadata": {},
     "output_type": "execute_result"
    }
   ],
   "source": [
    "convo.run(\"name of the winning captain\")"
   ]
  },
  {
   "cell_type": "code",
   "execution_count": null,
   "id": "621f2b04-150a-40a0-b10c-bb7afd498398",
   "metadata": {},
   "outputs": [],
   "source": []
  }
 ],
 "metadata": {
  "kernelspec": {
   "display_name": "Python 3 (ipykernel)",
   "language": "python",
   "name": "python3"
  },
  "language_info": {
   "codemirror_mode": {
    "name": "ipython",
    "version": 3
   },
   "file_extension": ".py",
   "mimetype": "text/x-python",
   "name": "python",
   "nbconvert_exporter": "python",
   "pygments_lexer": "ipython3",
   "version": "3.10.7"
  }
 },
 "nbformat": 4,
 "nbformat_minor": 5
}
